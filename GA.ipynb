{
 "cells": [
  {
   "cell_type": "code",
   "execution_count": 43,
   "id": "84b22294-d780-4520-91ef-17f88fd5ecbb",
   "metadata": {},
   "outputs": [],
   "source": [
    "import numpy as np\n",
    "import pandas as pd\n",
    "import torch\n",
    "import torch.nn as nn\n",
    "import torch.optim as optim\n",
    "from sklearn.model_selection import train_test_split\n",
    "from deap import base, creator, tools, algorithms\n",
    "import random\n",
    "import os\n",
    "from sklearn.preprocessing import StandardScaler"
   ]
  },
  {
   "cell_type": "code",
   "execution_count": 44,
   "id": "003dd50a-c19d-4199-9954-daacc13e6721",
   "metadata": {},
   "outputs": [
    {
     "name": "stdout",
     "output_type": "stream",
     "text": [
      "Using device: cuda\n"
     ]
    }
   ],
   "source": [
    "# Check for GPU availability\n",
    "device = torch.device(\"cuda\" if torch.cuda.is_available() else \"cpu\")\n",
    "print(f\"Using device: {device}\")"
   ]
  },
  {
   "cell_type": "code",
   "execution_count": 45,
   "id": "2d657dc2-3a7e-40e6-a09d-c727449f026e",
   "metadata": {},
   "outputs": [],
   "source": [
    "# Load dataset\n",
    "features = pd.read_csv(\"weatherAUS_cleaned.csv\")\n",
    "X = features.drop([\"RainTomorrow\"], axis=1).values\n",
    "scaler = StandardScaler()\n",
    "X = scaler.fit_transform(X)\n",
    "y = features[\"RainTomorrow\"].values"
   ]
  },
  {
   "cell_type": "code",
   "execution_count": 46,
   "id": "94d15d27-5551-4f1a-a422-00dee5b73135",
   "metadata": {},
   "outputs": [],
   "source": [
    "# Split dataset\n",
    "X_train, X_test, y_train, y_test = train_test_split(X, y, test_size=0.2, random_state=42)\n",
    "\n",
    "# Convert data to PyTorch tensors\n",
    "X_train_tensor = torch.tensor(X_train, dtype=torch.float32).to(device)\n",
    "y_train_tensor = torch.tensor(y_train, dtype=torch.float32).view(-1, 1).to(device)\n",
    "X_test_tensor = torch.tensor(X_test, dtype=torch.float32).to(device)\n",
    "y_test_tensor = torch.tensor(y_test, dtype=torch.float32).view(-1, 1).to(device)"
   ]
  },
  {
   "cell_type": "code",
   "execution_count": 47,
   "id": "582c8b37-099e-4d04-941b-a3e0c76fc7c5",
   "metadata": {},
   "outputs": [],
   "source": [
    "# Define PyTorch ANN model\n",
    "class ANNModel(nn.Module):\n",
    "    def __init__(self, input_size, neurons_layer1, neurons_layer2, neurons_layer3, dropout_rate1, dropout_rate2):\n",
    "        super(ANNModel, self).__init__()\n",
    "        self.fc1 = nn.Linear(input_size, neurons_layer1)\n",
    "        self.fc2 = nn.Linear(neurons_layer1, neurons_layer2)\n",
    "        self.fc3 = nn.Linear(neurons_layer2, neurons_layer3)\n",
    "        self.dropout1 = nn.Dropout(dropout_rate1)\n",
    "        self.fc4 = nn.Linear(neurons_layer3, 8)\n",
    "        self.dropout2 = nn.Dropout(dropout_rate2)\n",
    "        self.fc5 = nn.Linear(8, 1)\n",
    "        self.sigmoid = nn.Sigmoid()\n",
    "\n",
    "    def forward(self, x):\n",
    "        x = torch.relu(self.fc1(x))\n",
    "        x = torch.relu(self.fc2(x))\n",
    "        x = torch.relu(self.fc3(x))\n",
    "        x = self.dropout1(x)\n",
    "        x = torch.relu(self.fc4(x))\n",
    "        x = self.dropout2(x)\n",
    "        x = self.sigmoid(self.fc5(x))\n",
    "        return x"
   ]
  },
  {
   "cell_type": "code",
   "execution_count": 48,
   "id": "5a159179-437a-4835-b867-f315507e0738",
   "metadata": {},
   "outputs": [],
   "source": [
    "# Function to train and evaluate the model\n",
    "def evaluate(individual):\n",
    "    neurons_layer1, neurons_layer2, neurons_layer3, dropout_rate1, dropout_rate2 = individual\n",
    "\n",
    "    # Ensure neurons and dropout rates are within valid range\n",
    "    neurons_layer1 = int(max(16, neurons_layer1))\n",
    "    neurons_layer2 = int(max(16, neurons_layer2))\n",
    "    neurons_layer3 = int(max(8, neurons_layer3))\n",
    "    dropout_rate1 = np.clip(dropout_rate1, 0.1, 0.5)\n",
    "    dropout_rate2 = np.clip(dropout_rate2, 0.1, 0.5)\n",
    "\n",
    "    # Initialize model and move to GPU\n",
    "    model = ANNModel(X_train.shape[1], neurons_layer1, neurons_layer2, neurons_layer3, dropout_rate1, dropout_rate2).to(device)\n",
    "    criterion = nn.BCELoss()\n",
    "    optimizer = optim.AdamW(model.parameters(), lr=0.001, weight_decay=1e-4)\n",
    "\n",
    "    # Training loop\n",
    "    model.train()\n",
    "    for epoch in range(200):  # Run for 10 epochs\n",
    "        optimizer.zero_grad()\n",
    "        outputs = model(X_train_tensor)\n",
    "        loss = criterion(outputs, y_train_tensor)\n",
    "        loss.backward()\n",
    "        optimizer.step()\n",
    "\n",
    "    # Evaluate model accuracy\n",
    "    model.eval()\n",
    "    with torch.no_grad():\n",
    "        predictions = model(X_test_tensor)\n",
    "        predictions = (predictions >= 0.5).float()\n",
    "        accuracy = (predictions == y_test_tensor).float().mean().item()\n",
    "        \n",
    "    # Save the hyperparameters and accuracy to CSV\n",
    "    result = {\n",
    "        'Neurons Layer 1': neurons_layer1,\n",
    "        'Neurons Layer 2': neurons_layer2,\n",
    "        'Neurons Layer 3': neurons_layer3,\n",
    "        'Dropout Rate 1': dropout_rate1,\n",
    "        'Dropout Rate 2': dropout_rate2,\n",
    "        'Accuracy': accuracy\n",
    "    }\n",
    "\n",
    "    # Append results to file after each evaluation\n",
    "    file_exists = os.path.isfile(\"hyperparameter_tuning_results.csv\")  # Check if file exists\n",
    "    with open(\"hyperparameter_tuning_results.csv\", \"a\") as f:\n",
    "        if not file_exists:  # If file doesn't exist, write the header\n",
    "            header = 'Neurons Layer 1,Neurons Layer 2,Neurons Layer 3,Dropout Rate 1,Dropout Rate 2,Accuracy\\n'\n",
    "            f.write(header)\n",
    "        f.write(f\"{neurons_layer1},{neurons_layer2},{neurons_layer3},{dropout_rate1},{dropout_rate2},{accuracy}\\n\")\n",
    "\n",
    "    return (accuracy,)"
   ]
  },
  {
   "cell_type": "code",
   "execution_count": 49,
   "id": "e04819ed-b67a-4c23-90c7-a5aceaf71527",
   "metadata": {},
   "outputs": [],
   "source": [
    "# Define Genetic Algorithm setup\n",
    "if \"FitnessMax\" not in creator.__dict__:\n",
    "    creator.create(\"FitnessMax\", base.Fitness, weights=(1.0,))\n",
    "if \"Individual\" not in creator.__dict__:\n",
    "    creator.create(\"Individual\", list, fitness=creator.FitnessMax)"
   ]
  },
  {
   "cell_type": "code",
   "execution_count": 50,
   "id": "bed2097b-576c-4da2-987b-4c3fe61f273e",
   "metadata": {},
   "outputs": [],
   "source": [
    "toolbox = base.Toolbox()\n",
    "toolbox.register(\"neurons_layer1\", random.randint, 16, 128)\n",
    "toolbox.register(\"neurons_layer2\", random.randint, 16, 128)\n",
    "toolbox.register(\"neurons_layer3\", random.randint, 8, 64)\n",
    "toolbox.register(\"dropout_rate1\", random.uniform, 0.1, 0.5)\n",
    "toolbox.register(\"dropout_rate2\", random.uniform, 0.1, 0.5)"
   ]
  },
  {
   "cell_type": "code",
   "execution_count": 51,
   "id": "e709b1ac-3014-4dfc-a7ec-0c40c81d05ed",
   "metadata": {},
   "outputs": [],
   "source": [
    "# Define individual and population\n",
    "toolbox.register(\"individual\", tools.initCycle, creator.Individual,\n",
    "                 (toolbox.neurons_layer1, toolbox.neurons_layer2, toolbox.neurons_layer3,\n",
    "                  toolbox.dropout_rate1, toolbox.dropout_rate2), n=1)\n",
    "toolbox.register(\"population\", tools.initRepeat, list, toolbox.individual)\n"
   ]
  },
  {
   "cell_type": "code",
   "execution_count": 52,
   "id": "6b4d68fa-d6fb-4f9b-8b5e-b450d18e0a22",
   "metadata": {},
   "outputs": [],
   "source": [
    "def tweak(individual, sigma=5):\n",
    "    \"\"\"Tweak operation: Slightly modifies individual parameters to refine the search.\"\"\"\n",
    "    # Unpack the individual\n",
    "    neurons_layer1, neurons_layer2, neurons_layer3, dropout_rate1, dropout_rate2 = individual\n",
    "\n",
    "    # Apply small Gaussian noise to neurons while ensuring limits\n",
    "    neurons_layer1 = int(max(16, neurons_layer1 + np.random.normal(0, sigma)))\n",
    "    neurons_layer2 = int(max(16, neurons_layer2 + np.random.normal(0, sigma)))\n",
    "    neurons_layer3 = int(max(8, neurons_layer3 + np.random.normal(0, sigma)))\n",
    "\n",
    "    # Apply small Gaussian noise to dropout rates while keeping within range\n",
    "    dropout_rate1 = np.clip(dropout_rate1 + np.random.normal(0, 0.05), 0.1, 0.5)\n",
    "    dropout_rate2 = np.clip(dropout_rate2 + np.random.normal(0, 0.05), 0.1, 0.5)\n",
    "\n",
    "    # Assign the modified values back to the individual\n",
    "    individual[0] = neurons_layer1\n",
    "    individual[1] = neurons_layer2\n",
    "    individual[2] = neurons_layer3\n",
    "    individual[3] = dropout_rate1\n",
    "    individual[4] = dropout_rate2\n",
    "\n",
    "    return individual,\n"
   ]
  },
  {
   "cell_type": "code",
   "execution_count": 53,
   "id": "0b8725cf-1692-47c0-a6dd-f717d7906d90",
   "metadata": {},
   "outputs": [],
   "source": [
    "# Register GA functions\n",
    "toolbox.register(\"evaluate\", evaluate)\n",
    "toolbox.register(\"mate\", tools.cxBlend, alpha=0.5)\n",
    "toolbox.register(\"mutate\", tweak)  # Use tweak for mutation\n",
    "toolbox.register(\"select\", tools.selTournament, tournsize=3)"
   ]
  },
  {
   "cell_type": "code",
   "execution_count": 54,
   "id": "9c286a28-5cc3-47fa-b4e9-279afe22e4dd",
   "metadata": {},
   "outputs": [],
   "source": [
    "# Run Genetic Algorithm\n",
    "population = toolbox.population(n=20)\n",
    "NGEN = 50  # Number of generations"
   ]
  },
  {
   "cell_type": "code",
   "execution_count": 55,
   "id": "ea70852b-a7ae-4518-8ffa-773a5b728aac",
   "metadata": {},
   "outputs": [
    {
     "name": "stdout",
     "output_type": "stream",
     "text": [
      "Generation 1\n",
      "Generation 2\n",
      "Generation 3\n",
      "Generation 4\n",
      "Generation 5\n",
      "Generation 6\n",
      "Generation 7\n",
      "Generation 8\n",
      "Generation 9\n",
      "Generation 10\n",
      "Generation 11\n",
      "Generation 12\n",
      "Generation 13\n",
      "Generation 14\n",
      "Generation 15\n",
      "Generation 16\n",
      "Generation 17\n",
      "Generation 18\n",
      "Generation 19\n",
      "Generation 20\n",
      "Generation 21\n",
      "Generation 22\n",
      "Generation 23\n",
      "Generation 24\n",
      "Generation 25\n",
      "Generation 26\n",
      "Generation 27\n",
      "Generation 28\n",
      "Generation 29\n",
      "Generation 30\n",
      "Generation 31\n",
      "Generation 32\n",
      "Generation 33\n",
      "Generation 34\n",
      "Generation 35\n",
      "Generation 36\n",
      "Generation 37\n",
      "Generation 38\n",
      "Generation 39\n",
      "Generation 40\n",
      "Generation 41\n",
      "Generation 42\n",
      "Generation 43\n",
      "Generation 44\n",
      "Generation 45\n",
      "Generation 46\n",
      "Generation 47\n",
      "Generation 48\n",
      "Generation 49\n",
      "Generation 50\n",
      "\n",
      "Best Hyperparameters: Neurons Layer 1=121.67399635000224, Neurons Layer 2=79.108830953135, Neurons Layer 3=70.12469366720248, Dropout Rate 1=0.08, Dropout Rate 2=0.20\n"
     ]
    }
   ],
   "source": [
    "for gen in range(NGEN):\n",
    "    print(f\"Generation {gen + 1}\")\n",
    "    offspring = algorithms.varAnd(population, toolbox, cxpb=0.5, mutpb=0.1)\n",
    "    fits = list(map(toolbox.evaluate, offspring))\n",
    "    \n",
    "    for fit, ind in zip(fits, offspring):\n",
    "        ind.fitness.values = fit\n",
    "    \n",
    "    population = toolbox.select(offspring, k=len(population))\n",
    "\n",
    "# Best individual\n",
    "best_individual = tools.selBest(population, k=1)[0]\n",
    "print(f\"\\nBest Hyperparameters: Neurons Layer 1={best_individual[0]}, Neurons Layer 2={best_individual[1]}, Neurons Layer 3={best_individual[2]}, Dropout Rate 1={best_individual[3]:.2f}, Dropout Rate 2={best_individual[4]:.2f}\")"
   ]
  },
  {
   "cell_type": "code",
   "execution_count": null,
   "id": "a23c600d-b197-4e1d-96bb-46cc4a5067e2",
   "metadata": {},
   "outputs": [],
   "source": []
  }
 ],
 "metadata": {
  "kernelspec": {
   "display_name": "Python 3 (ipykernel)",
   "language": "python",
   "name": "python3"
  },
  "language_info": {
   "codemirror_mode": {
    "name": "ipython",
    "version": 3
   },
   "file_extension": ".py",
   "mimetype": "text/x-python",
   "name": "python",
   "nbconvert_exporter": "python",
   "pygments_lexer": "ipython3",
   "version": "3.10.2"
  }
 },
 "nbformat": 4,
 "nbformat_minor": 5
}
